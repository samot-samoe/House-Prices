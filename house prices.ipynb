{
 "cells": [
  {
   "cell_type": "code",
   "execution_count": 48,
   "source": [
    "import numpy as np\n",
    "import pandas as pd\n",
    "import matplotlib.pyplot as plt\n",
    "import seaborn as sns\n",
    "from scipy.cluster.hierarchy import dendrogram, ward\n",
    "from scipy.cluster.hierarchy import fcluster\n",
    "from sklearn.metrics import silhouette_samples\n",
    "from matplotlib import cm"
   ],
   "outputs": [],
   "metadata": {}
  },
  {
   "cell_type": "code",
   "execution_count": 49,
   "source": [
    "flats = pd.read_csv('~/Documents/kaggle/train.csv')\n",
    "flats_test = pd.read_csv('~/Documents/kaggle/test.csv')\n",
    "sub = pd.read_csv('~/Documents/kaggle/sample_submission.csv')"
   ],
   "outputs": [],
   "metadata": {}
  },
  {
   "cell_type": "code",
   "execution_count": 50,
   "source": [
    "full = pd.concat([flats,flats_test], axis=0)"
   ],
   "outputs": [
    {
     "output_type": "stream",
     "name": "stderr",
     "text": [
      "/home/samo/anaconda3/lib/python3.7/site-packages/ipykernel_launcher.py:1: FutureWarning: Sorting because non-concatenation axis is not aligned. A future version\n",
      "of pandas will change to not sort by default.\n",
      "\n",
      "To accept the future behavior, pass 'sort=False'.\n",
      "\n",
      "To retain the current behavior and silence the warning, pass 'sort=True'.\n",
      "\n",
      "  \"\"\"Entry point for launching an IPython kernel.\n"
     ]
    }
   ],
   "metadata": {}
  },
  {
   "cell_type": "code",
   "execution_count": 51,
   "source": [
    "full_null = full.isna().sum()\n",
    "plt.figure(figsize=(8,8))\n",
    "full_null[full_null!=0].plot(kind='barh')"
   ],
   "outputs": [
    {
     "output_type": "execute_result",
     "data": {
      "text/plain": [
       "<matplotlib.axes._subplots.AxesSubplot at 0x7f96fb876d50>"
      ]
     },
     "metadata": {},
     "execution_count": 51
    },
    {
     "output_type": "display_data",
     "data": {
      "image/png": "[encoded data removed]",
      "text/plain": [
       "<Figure size 576x576 with 1 Axes>"
      ]
     },
     "metadata": {
      "needs_background": "light"
     }
    }
   ],
   "metadata": {}
  },
  {
   "cell_type": "markdown",
   "source": [
    "# Дропаем все фичи с большим количеством нанов"
   ],
   "metadata": {}
  },
  {
   "cell_type": "code",
   "execution_count": 52,
   "source": [
    "full_pre = full.copy()"
   ],
   "outputs": [],
   "metadata": {}
  },
  {
   "cell_type": "code",
   "execution_count": 53,
   "source": [
    "full_pre.drop(['Id','Alley','PoolQC','Fence','MiscFeature'],axis=1, inplace=True)"
   ],
   "outputs": [],
   "metadata": {}
  },
  {
   "cell_type": "code",
   "execution_count": 54,
   "source": [
    "num_features = full_pre.select_dtypes(exclude=['object']).columns \n",
    "full_pre[num_features] = full_pre[num_features].fillna(full[num_features].median())"
   ],
   "outputs": [],
   "metadata": {}
  },
  {
   "cell_type": "code",
   "execution_count": 55,
   "source": [
    "cat_features = full_pre.select_dtypes(include=['object']).columns\n",
    "#full_pre[cat_features] = full_pre[cat_features].fillna('No')\n",
    "\n",
    "cat_features \n",
    "for cat in cat_features:\n",
    "    full_pre[cat] = full_pre[cat].fillna(full_pre[cat].mode()[0])"
   ],
   "outputs": [],
   "metadata": {}
  },
  {
   "cell_type": "code",
   "execution_count": 56,
   "source": [
    "full_pre.isna().any().any()"
   ],
   "outputs": [
    {
     "output_type": "execute_result",
     "data": {
      "text/plain": [
       "False"
      ]
     },
     "metadata": {},
     "execution_count": 56
    }
   ],
   "metadata": {}
  },
  {
   "cell_type": "markdown",
   "source": [
    "# Кодирование категориальных переменных "
   ],
   "metadata": {}
  },
  {
   "cell_type": "code",
   "execution_count": 57,
   "source": [
    "from category_encoders import TargetEncoder\n",
    "for cat in cat_features:\n",
    "    encoder = TargetEncoder()\n",
    "    full_pre[cat] = encoder.fit_transform(full_pre[cat], full_pre['SalePrice'])"
   ],
   "outputs": [],
   "metadata": {}
  },
  {
   "cell_type": "markdown",
   "source": [
    "# Логорифмирование числовых переменных со сдвигом\n"
   ],
   "metadata": {}
  },
  {
   "cell_type": "code",
   "execution_count": 58,
   "source": [
    "num_features = full_pre.select_dtypes(exclude=['object']).columns \n",
    "from scipy.stats import skew \n",
    "skewness = full_pre[num_features].apply(lambda x: skew(x))\n",
    "skewness.sort_values(ascending=False)\n",
    "\n",
    "skewness = skewness[abs(skewness)>0.5]\n",
    "\n",
    "skew_features = full_pre[skewness.index]"
   ],
   "outputs": [],
   "metadata": {}
  },
  {
   "cell_type": "code",
   "execution_count": 59,
   "source": [
    "full_pre[skew_features.columns] = np.log1p(full_pre[skew_features.columns])\n",
    "full_pre[skew_features.columns]"
   ],
   "outputs": [
    {
     "output_type": "execute_result",
     "data": {
      "text/html": [
       "<div>\n",
       "<style scoped>\n",
       "    .dataframe tbody tr th:only-of-type {\n",
       "        vertical-align: middle;\n",
       "    }\n",
       "\n",
       "    .dataframe tbody tr th {\n",
       "        vertical-align: top;\n",
       "    }\n",
       "\n",
       "    .dataframe thead th {\n",
       "        text-align: right;\n",
       "    }\n",
       "</style>\n",
       "<table border=\"1\" class=\"dataframe\">\n",
       "  <thead>\n",
       "    <tr style=\"text-align: right;\">\n",
       "      <th></th>\n",
       "      <th>1stFlrSF</th>\n",
       "      <th>2ndFlrSF</th>\n",
       "      <th>3SsnPorch</th>\n",
       "      <th>BldgType</th>\n",
       "      <th>BsmtCond</th>\n",
       "      <th>BsmtExposure</th>\n",
       "      <th>BsmtFinSF1</th>\n",
       "      <th>BsmtFinSF2</th>\n",
       "      <th>BsmtFinType1</th>\n",
       "      <th>BsmtFinType2</th>\n",
       "      <th>...</th>\n",
       "      <th>SaleCondition</th>\n",
       "      <th>SalePrice</th>\n",
       "      <th>SaleType</th>\n",
       "      <th>ScreenPorch</th>\n",
       "      <th>Street</th>\n",
       "      <th>TotRmsAbvGrd</th>\n",
       "      <th>TotalBsmtSF</th>\n",
       "      <th>Utilities</th>\n",
       "      <th>WoodDeckSF</th>\n",
       "      <th>YearBuilt</th>\n",
       "    </tr>\n",
       "  </thead>\n",
       "  <tbody>\n",
       "    <tr>\n",
       "      <th>0</th>\n",
       "      <td>6.753438</td>\n",
       "      <td>6.751101</td>\n",
       "      <td>0.0</td>\n",
       "      <td>12.069412</td>\n",
       "      <td>12.056845</td>\n",
       "      <td>12.002855</td>\n",
       "      <td>6.561031</td>\n",
       "      <td>0.0</td>\n",
       "      <td>12.199317</td>\n",
       "      <td>12.059969</td>\n",
       "      <td>...</td>\n",
       "      <td>12.038168</td>\n",
       "      <td>12.247699</td>\n",
       "      <td>12.033018</td>\n",
       "      <td>0.0</td>\n",
       "      <td>12.055653</td>\n",
       "      <td>2.197225</td>\n",
       "      <td>6.753438</td>\n",
       "      <td>12.055113</td>\n",
       "      <td>0.000000</td>\n",
       "      <td>7.602900</td>\n",
       "    </tr>\n",
       "    <tr>\n",
       "      <th>1</th>\n",
       "      <td>7.141245</td>\n",
       "      <td>0.000000</td>\n",
       "      <td>0.0</td>\n",
       "      <td>12.069412</td>\n",
       "      <td>12.056845</td>\n",
       "      <td>12.249963</td>\n",
       "      <td>6.886532</td>\n",
       "      <td>0.0</td>\n",
       "      <td>11.997012</td>\n",
       "      <td>12.059969</td>\n",
       "      <td>...</td>\n",
       "      <td>12.038168</td>\n",
       "      <td>12.109016</td>\n",
       "      <td>12.033018</td>\n",
       "      <td>0.0</td>\n",
       "      <td>12.055653</td>\n",
       "      <td>1.945910</td>\n",
       "      <td>7.141245</td>\n",
       "      <td>12.055113</td>\n",
       "      <td>5.700444</td>\n",
       "      <td>7.589336</td>\n",
       "    </tr>\n",
       "    <tr>\n",
       "      <th>2</th>\n",
       "      <td>6.825460</td>\n",
       "      <td>6.765039</td>\n",
       "      <td>0.0</td>\n",
       "      <td>12.069412</td>\n",
       "      <td>12.056845</td>\n",
       "      <td>12.085092</td>\n",
       "      <td>6.188264</td>\n",
       "      <td>0.0</td>\n",
       "      <td>12.199317</td>\n",
       "      <td>12.059969</td>\n",
       "      <td>...</td>\n",
       "      <td>12.038168</td>\n",
       "      <td>12.317171</td>\n",
       "      <td>12.033018</td>\n",
       "      <td>0.0</td>\n",
       "      <td>12.055653</td>\n",
       "      <td>1.945910</td>\n",
       "      <td>6.825460</td>\n",
       "      <td>12.055113</td>\n",
       "      <td>0.000000</td>\n",
       "      <td>7.601902</td>\n",
       "    </tr>\n",
       "    <tr>\n",
       "      <th>3</th>\n",
       "      <td>6.869014</td>\n",
       "      <td>6.629363</td>\n",
       "      <td>0.0</td>\n",
       "      <td>12.069412</td>\n",
       "      <td>12.154569</td>\n",
       "      <td>12.002855</td>\n",
       "      <td>5.379897</td>\n",
       "      <td>0.0</td>\n",
       "      <td>11.997012</td>\n",
       "      <td>12.059969</td>\n",
       "      <td>...</td>\n",
       "      <td>11.946292</td>\n",
       "      <td>11.849405</td>\n",
       "      <td>12.033018</td>\n",
       "      <td>0.0</td>\n",
       "      <td>12.055653</td>\n",
       "      <td>2.079442</td>\n",
       "      <td>6.629363</td>\n",
       "      <td>12.055113</td>\n",
       "      <td>0.000000</td>\n",
       "      <td>7.557995</td>\n",
       "    </tr>\n",
       "    <tr>\n",
       "      <th>4</th>\n",
       "      <td>7.044033</td>\n",
       "      <td>6.960348</td>\n",
       "      <td>0.0</td>\n",
       "      <td>12.069412</td>\n",
       "      <td>12.056845</td>\n",
       "      <td>12.133908</td>\n",
       "      <td>6.486161</td>\n",
       "      <td>0.0</td>\n",
       "      <td>12.199317</td>\n",
       "      <td>12.059969</td>\n",
       "      <td>...</td>\n",
       "      <td>12.038168</td>\n",
       "      <td>12.429220</td>\n",
       "      <td>12.033018</td>\n",
       "      <td>0.0</td>\n",
       "      <td>12.055653</td>\n",
       "      <td>2.302585</td>\n",
       "      <td>7.044033</td>\n",
       "      <td>12.055113</td>\n",
       "      <td>5.262690</td>\n",
       "      <td>7.601402</td>\n",
       "    </tr>\n",
       "    <tr>\n",
       "      <th>...</th>\n",
       "      <td>...</td>\n",
       "      <td>...</td>\n",
       "      <td>...</td>\n",
       "      <td>...</td>\n",
       "      <td>...</td>\n",
       "      <td>...</td>\n",
       "      <td>...</td>\n",
       "      <td>...</td>\n",
       "      <td>...</td>\n",
       "      <td>...</td>\n",
       "      <td>...</td>\n",
       "      <td>...</td>\n",
       "      <td>...</td>\n",
       "      <td>...</td>\n",
       "      <td>...</td>\n",
       "      <td>...</td>\n",
       "      <td>...</td>\n",
       "      <td>...</td>\n",
       "      <td>...</td>\n",
       "      <td>...</td>\n",
       "      <td>...</td>\n",
       "    </tr>\n",
       "    <tr>\n",
       "      <th>1454</th>\n",
       "      <td>6.304449</td>\n",
       "      <td>6.304449</td>\n",
       "      <td>0.0</td>\n",
       "      <td>11.924158</td>\n",
       "      <td>12.056845</td>\n",
       "      <td>12.002855</td>\n",
       "      <td>0.000000</td>\n",
       "      <td>0.0</td>\n",
       "      <td>12.009243</td>\n",
       "      <td>12.059969</td>\n",
       "      <td>...</td>\n",
       "      <td>12.038168</td>\n",
       "      <td>12.001512</td>\n",
       "      <td>12.033018</td>\n",
       "      <td>0.0</td>\n",
       "      <td>12.055653</td>\n",
       "      <td>1.791759</td>\n",
       "      <td>6.304449</td>\n",
       "      <td>12.055113</td>\n",
       "      <td>0.000000</td>\n",
       "      <td>7.586296</td>\n",
       "    </tr>\n",
       "    <tr>\n",
       "      <th>1455</th>\n",
       "      <td>6.304449</td>\n",
       "      <td>6.304449</td>\n",
       "      <td>0.0</td>\n",
       "      <td>12.058283</td>\n",
       "      <td>12.056845</td>\n",
       "      <td>12.002855</td>\n",
       "      <td>5.533389</td>\n",
       "      <td>0.0</td>\n",
       "      <td>11.954793</td>\n",
       "      <td>12.059969</td>\n",
       "      <td>...</td>\n",
       "      <td>11.946292</td>\n",
       "      <td>12.001512</td>\n",
       "      <td>12.033018</td>\n",
       "      <td>0.0</td>\n",
       "      <td>12.055653</td>\n",
       "      <td>1.945910</td>\n",
       "      <td>6.304449</td>\n",
       "      <td>12.055113</td>\n",
       "      <td>0.000000</td>\n",
       "      <td>7.586296</td>\n",
       "    </tr>\n",
       "    <tr>\n",
       "      <th>1456</th>\n",
       "      <td>7.110696</td>\n",
       "      <td>0.000000</td>\n",
       "      <td>0.0</td>\n",
       "      <td>12.069412</td>\n",
       "      <td>12.056845</td>\n",
       "      <td>12.002855</td>\n",
       "      <td>7.110696</td>\n",
       "      <td>0.0</td>\n",
       "      <td>11.997012</td>\n",
       "      <td>12.059969</td>\n",
       "      <td>...</td>\n",
       "      <td>11.946292</td>\n",
       "      <td>12.001512</td>\n",
       "      <td>12.033018</td>\n",
       "      <td>0.0</td>\n",
       "      <td>12.055653</td>\n",
       "      <td>2.079442</td>\n",
       "      <td>7.110696</td>\n",
       "      <td>12.055113</td>\n",
       "      <td>6.163315</td>\n",
       "      <td>7.581210</td>\n",
       "    </tr>\n",
       "    <tr>\n",
       "      <th>1457</th>\n",
       "      <td>6.878326</td>\n",
       "      <td>0.000000</td>\n",
       "      <td>0.0</td>\n",
       "      <td>12.069412</td>\n",
       "      <td>12.056845</td>\n",
       "      <td>12.133908</td>\n",
       "      <td>5.823046</td>\n",
       "      <td>0.0</td>\n",
       "      <td>12.199317</td>\n",
       "      <td>12.059969</td>\n",
       "      <td>...</td>\n",
       "      <td>12.038168</td>\n",
       "      <td>12.001512</td>\n",
       "      <td>12.033018</td>\n",
       "      <td>0.0</td>\n",
       "      <td>12.055653</td>\n",
       "      <td>1.945910</td>\n",
       "      <td>6.816736</td>\n",
       "      <td>12.055113</td>\n",
       "      <td>4.394449</td>\n",
       "      <td>7.597396</td>\n",
       "    </tr>\n",
       "    <tr>\n",
       "      <th>1458</th>\n",
       "      <td>6.904751</td>\n",
       "      <td>6.912743</td>\n",
       "      <td>0.0</td>\n",
       "      <td>12.069412</td>\n",
       "      <td>12.056845</td>\n",
       "      <td>12.133908</td>\n",
       "      <td>6.632002</td>\n",
       "      <td>0.0</td>\n",
       "      <td>11.968098</td>\n",
       "      <td>12.059969</td>\n",
       "      <td>...</td>\n",
       "      <td>12.038168</td>\n",
       "      <td>12.001512</td>\n",
       "      <td>12.033018</td>\n",
       "      <td>0.0</td>\n",
       "      <td>12.055653</td>\n",
       "      <td>2.302585</td>\n",
       "      <td>6.904751</td>\n",
       "      <td>12.055113</td>\n",
       "      <td>5.252273</td>\n",
       "      <td>7.597898</td>\n",
       "    </tr>\n",
       "  </tbody>\n",
       "</table>\n",
       "<p>2919 rows × 59 columns</p>\n",
       "</div>"
      ],
      "text/plain": [
       "      1stFlrSF  2ndFlrSF  3SsnPorch   BldgType   BsmtCond  BsmtExposure  \\\n",
       "0     6.753438  6.751101        0.0  12.069412  12.056845     12.002855   \n",
       "1     7.141245  0.000000        0.0  12.069412  12.056845     12.249963   \n",
       "2     6.825460  6.765039        0.0  12.069412  12.056845     12.085092   \n",
       "3     6.869014  6.629363        0.0  12.069412  12.154569     12.002855   \n",
       "4     7.044033  6.960348        0.0  12.069412  12.056845     12.133908   \n",
       "...        ...       ...        ...        ...        ...           ...   \n",
       "1454  6.304449  6.304449        0.0  11.924158  12.056845     12.002855   \n",
       "1455  6.304449  6.304449        0.0  12.058283  12.056845     12.002855   \n",
       "1456  7.110696  0.000000        0.0  12.069412  12.056845     12.002855   \n",
       "1457  6.878326  0.000000        0.0  12.069412  12.056845     12.133908   \n",
       "1458  6.904751  6.912743        0.0  12.069412  12.056845     12.133908   \n",
       "\n",
       "      BsmtFinSF1  BsmtFinSF2  BsmtFinType1  BsmtFinType2  ...  SaleCondition  \\\n",
       "0       6.561031         0.0     12.199317     12.059969  ...      12.038168   \n",
       "1       6.886532         0.0     11.997012     12.059969  ...      12.038168   \n",
       "2       6.188264         0.0     12.199317     12.059969  ...      12.038168   \n",
       "3       5.379897         0.0     11.997012     12.059969  ...      11.946292   \n",
       "4       6.486161         0.0     12.199317     12.059969  ...      12.038168   \n",
       "...          ...         ...           ...           ...  ...            ...   \n",
       "1454    0.000000         0.0     12.009243     12.059969  ...      12.038168   \n",
       "1455    5.533389         0.0     11.954793     12.059969  ...      11.946292   \n",
       "1456    7.110696         0.0     11.997012     12.059969  ...      11.946292   \n",
       "1457    5.823046         0.0     12.199317     12.059969  ...      12.038168   \n",
       "1458    6.632002         0.0     11.968098     12.059969  ...      12.038168   \n",
       "\n",
       "      SalePrice   SaleType  ScreenPorch     Street  TotRmsAbvGrd  TotalBsmtSF  \\\n",
       "0     12.247699  12.033018          0.0  12.055653      2.197225     6.753438   \n",
       "1     12.109016  12.033018          0.0  12.055653      1.945910     7.141245   \n",
       "2     12.317171  12.033018          0.0  12.055653      1.945910     6.825460   \n",
       "3     11.849405  12.033018          0.0  12.055653      2.079442     6.629363   \n",
       "4     12.429220  12.033018          0.0  12.055653      2.302585     7.044033   \n",
       "...         ...        ...          ...        ...           ...          ...   \n",
       "1454  12.001512  12.033018          0.0  12.055653      1.791759     6.304449   \n",
       "1455  12.001512  12.033018          0.0  12.055653      1.945910     6.304449   \n",
       "1456  12.001512  12.033018          0.0  12.055653      2.079442     7.110696   \n",
       "1457  12.001512  12.033018          0.0  12.055653      1.945910     6.816736   \n",
       "1458  12.001512  12.033018          0.0  12.055653      2.302585     6.904751   \n",
       "\n",
       "      Utilities  WoodDeckSF  YearBuilt  \n",
       "0     12.055113    0.000000   7.602900  \n",
       "1     12.055113    5.700444   7.589336  \n",
       "2     12.055113    0.000000   7.601902  \n",
       "3     12.055113    0.000000   7.557995  \n",
       "4     12.055113    5.262690   7.601402  \n",
       "...         ...         ...        ...  \n",
       "1454  12.055113    0.000000   7.586296  \n",
       "1455  12.055113    0.000000   7.586296  \n",
       "1456  12.055113    6.163315   7.581210  \n",
       "1457  12.055113    4.394449   7.597396  \n",
       "1458  12.055113    5.252273   7.597898  \n",
       "\n",
       "[2919 rows x 59 columns]"
      ]
     },
     "metadata": {},
     "execution_count": 59
    }
   ],
   "metadata": {}
  },
  {
   "cell_type": "code",
   "execution_count": 60,
   "source": [
    "full_pre.head()"
   ],
   "outputs": [
    {
     "output_type": "execute_result",
     "data": {
      "text/html": [
       "<div>\n",
       "<style scoped>\n",
       "    .dataframe tbody tr th:only-of-type {\n",
       "        vertical-align: middle;\n",
       "    }\n",
       "\n",
       "    .dataframe tbody tr th {\n",
       "        vertical-align: top;\n",
       "    }\n",
       "\n",
       "    .dataframe thead th {\n",
       "        text-align: right;\n",
       "    }\n",
       "</style>\n",
       "<table border=\"1\" class=\"dataframe\">\n",
       "  <thead>\n",
       "    <tr style=\"text-align: right;\">\n",
       "      <th></th>\n",
       "      <th>1stFlrSF</th>\n",
       "      <th>2ndFlrSF</th>\n",
       "      <th>3SsnPorch</th>\n",
       "      <th>BedroomAbvGr</th>\n",
       "      <th>BldgType</th>\n",
       "      <th>BsmtCond</th>\n",
       "      <th>BsmtExposure</th>\n",
       "      <th>BsmtFinSF1</th>\n",
       "      <th>BsmtFinSF2</th>\n",
       "      <th>BsmtFinType1</th>\n",
       "      <th>...</th>\n",
       "      <th>SaleType</th>\n",
       "      <th>ScreenPorch</th>\n",
       "      <th>Street</th>\n",
       "      <th>TotRmsAbvGrd</th>\n",
       "      <th>TotalBsmtSF</th>\n",
       "      <th>Utilities</th>\n",
       "      <th>WoodDeckSF</th>\n",
       "      <th>YearBuilt</th>\n",
       "      <th>YearRemodAdd</th>\n",
       "      <th>YrSold</th>\n",
       "    </tr>\n",
       "  </thead>\n",
       "  <tbody>\n",
       "    <tr>\n",
       "      <th>0</th>\n",
       "      <td>6.753438</td>\n",
       "      <td>6.751101</td>\n",
       "      <td>0.0</td>\n",
       "      <td>3</td>\n",
       "      <td>12.069412</td>\n",
       "      <td>12.056845</td>\n",
       "      <td>12.002855</td>\n",
       "      <td>6.561031</td>\n",
       "      <td>0.0</td>\n",
       "      <td>12.199317</td>\n",
       "      <td>...</td>\n",
       "      <td>12.033018</td>\n",
       "      <td>0.0</td>\n",
       "      <td>12.055653</td>\n",
       "      <td>2.197225</td>\n",
       "      <td>6.753438</td>\n",
       "      <td>12.055113</td>\n",
       "      <td>0.000000</td>\n",
       "      <td>7.602900</td>\n",
       "      <td>2003</td>\n",
       "      <td>2008</td>\n",
       "    </tr>\n",
       "    <tr>\n",
       "      <th>1</th>\n",
       "      <td>7.141245</td>\n",
       "      <td>0.000000</td>\n",
       "      <td>0.0</td>\n",
       "      <td>3</td>\n",
       "      <td>12.069412</td>\n",
       "      <td>12.056845</td>\n",
       "      <td>12.249963</td>\n",
       "      <td>6.886532</td>\n",
       "      <td>0.0</td>\n",
       "      <td>11.997012</td>\n",
       "      <td>...</td>\n",
       "      <td>12.033018</td>\n",
       "      <td>0.0</td>\n",
       "      <td>12.055653</td>\n",
       "      <td>1.945910</td>\n",
       "      <td>7.141245</td>\n",
       "      <td>12.055113</td>\n",
       "      <td>5.700444</td>\n",
       "      <td>7.589336</td>\n",
       "      <td>1976</td>\n",
       "      <td>2007</td>\n",
       "    </tr>\n",
       "    <tr>\n",
       "      <th>2</th>\n",
       "      <td>6.825460</td>\n",
       "      <td>6.765039</td>\n",
       "      <td>0.0</td>\n",
       "      <td>3</td>\n",
       "      <td>12.069412</td>\n",
       "      <td>12.056845</td>\n",
       "      <td>12.085092</td>\n",
       "      <td>6.188264</td>\n",
       "      <td>0.0</td>\n",
       "      <td>12.199317</td>\n",
       "      <td>...</td>\n",
       "      <td>12.033018</td>\n",
       "      <td>0.0</td>\n",
       "      <td>12.055653</td>\n",
       "      <td>1.945910</td>\n",
       "      <td>6.825460</td>\n",
       "      <td>12.055113</td>\n",
       "      <td>0.000000</td>\n",
       "      <td>7.601902</td>\n",
       "      <td>2002</td>\n",
       "      <td>2008</td>\n",
       "    </tr>\n",
       "    <tr>\n",
       "      <th>3</th>\n",
       "      <td>6.869014</td>\n",
       "      <td>6.629363</td>\n",
       "      <td>0.0</td>\n",
       "      <td>3</td>\n",
       "      <td>12.069412</td>\n",
       "      <td>12.154569</td>\n",
       "      <td>12.002855</td>\n",
       "      <td>5.379897</td>\n",
       "      <td>0.0</td>\n",
       "      <td>11.997012</td>\n",
       "      <td>...</td>\n",
       "      <td>12.033018</td>\n",
       "      <td>0.0</td>\n",
       "      <td>12.055653</td>\n",
       "      <td>2.079442</td>\n",
       "      <td>6.629363</td>\n",
       "      <td>12.055113</td>\n",
       "      <td>0.000000</td>\n",
       "      <td>7.557995</td>\n",
       "      <td>1970</td>\n",
       "      <td>2006</td>\n",
       "    </tr>\n",
       "    <tr>\n",
       "      <th>4</th>\n",
       "      <td>7.044033</td>\n",
       "      <td>6.960348</td>\n",
       "      <td>0.0</td>\n",
       "      <td>4</td>\n",
       "      <td>12.069412</td>\n",
       "      <td>12.056845</td>\n",
       "      <td>12.133908</td>\n",
       "      <td>6.486161</td>\n",
       "      <td>0.0</td>\n",
       "      <td>12.199317</td>\n",
       "      <td>...</td>\n",
       "      <td>12.033018</td>\n",
       "      <td>0.0</td>\n",
       "      <td>12.055653</td>\n",
       "      <td>2.302585</td>\n",
       "      <td>7.044033</td>\n",
       "      <td>12.055113</td>\n",
       "      <td>5.262690</td>\n",
       "      <td>7.601402</td>\n",
       "      <td>2000</td>\n",
       "      <td>2008</td>\n",
       "    </tr>\n",
       "  </tbody>\n",
       "</table>\n",
       "<p>5 rows × 76 columns</p>\n",
       "</div>"
      ],
      "text/plain": [
       "   1stFlrSF  2ndFlrSF  3SsnPorch  BedroomAbvGr   BldgType   BsmtCond  \\\n",
       "0  6.753438  6.751101        0.0             3  12.069412  12.056845   \n",
       "1  7.141245  0.000000        0.0             3  12.069412  12.056845   \n",
       "2  6.825460  6.765039        0.0             3  12.069412  12.056845   \n",
       "3  6.869014  6.629363        0.0             3  12.069412  12.154569   \n",
       "4  7.044033  6.960348        0.0             4  12.069412  12.056845   \n",
       "\n",
       "   BsmtExposure  BsmtFinSF1  BsmtFinSF2  BsmtFinType1  ...   SaleType  \\\n",
       "0     12.002855    6.561031         0.0     12.199317  ...  12.033018   \n",
       "1     12.249963    6.886532         0.0     11.997012  ...  12.033018   \n",
       "2     12.085092    6.188264         0.0     12.199317  ...  12.033018   \n",
       "3     12.002855    5.379897         0.0     11.997012  ...  12.033018   \n",
       "4     12.133908    6.486161         0.0     12.199317  ...  12.033018   \n",
       "\n",
       "   ScreenPorch     Street  TotRmsAbvGrd  TotalBsmtSF  Utilities  WoodDeckSF  \\\n",
       "0          0.0  12.055653      2.197225     6.753438  12.055113    0.000000   \n",
       "1          0.0  12.055653      1.945910     7.141245  12.055113    5.700444   \n",
       "2          0.0  12.055653      1.945910     6.825460  12.055113    0.000000   \n",
       "3          0.0  12.055653      2.079442     6.629363  12.055113    0.000000   \n",
       "4          0.0  12.055653      2.302585     7.044033  12.055113    5.262690   \n",
       "\n",
       "   YearBuilt  YearRemodAdd  YrSold  \n",
       "0   7.602900          2003    2008  \n",
       "1   7.589336          1976    2007  \n",
       "2   7.601902          2002    2008  \n",
       "3   7.557995          1970    2006  \n",
       "4   7.601402          2000    2008  \n",
       "\n",
       "[5 rows x 76 columns]"
      ]
     },
     "metadata": {},
     "execution_count": 60
    }
   ],
   "metadata": {}
  },
  {
   "cell_type": "code",
   "execution_count": 62,
   "source": [
    "full_pre = pd.get_dummies(full_pre,drop_first=False)"
   ],
   "outputs": [],
   "metadata": {}
  },
  {
   "cell_type": "code",
   "execution_count": 63,
   "source": [
    "full_pre.isna().any().any()"
   ],
   "outputs": [
    {
     "output_type": "execute_result",
     "data": {
      "text/plain": [
       "False"
      ]
     },
     "metadata": {},
     "execution_count": 63
    }
   ],
   "metadata": {}
  },
  {
   "cell_type": "markdown",
   "source": [
    "# Обучение"
   ],
   "metadata": {}
  },
  {
   "cell_type": "code",
   "execution_count": 64,
   "source": [
    "from sklearn.model_selection import train_test_split\n",
    "from sklearn.metrics import accuracy_score\n",
    "from sklearn.preprocessing import StandardScaler, RobustScaler, MinMaxScaler\n",
    "from sklearn.linear_model import LinearRegression, RidgeCV, LassoCV, ElasticNetCV\n",
    "from sklearn.preprocessing import OneHotEncoder\n",
    "from sklearn.metrics import accuracy_score, mean_squared_error\n",
    "from sklearn.ensemble import GradientBoostingRegressor\n",
    "from sklearn.ensemble import GradientBoostingClassifier, RandomForestClassifier\n",
    "from sklearn.neighbors import KNeighborsRegressor, RadiusNeighborsRegressor\n",
    "from sklearn.ensemble import GradientBoostingRegressor, RandomForestRegressor, StackingRegressor"
   ],
   "outputs": [],
   "metadata": {}
  },
  {
   "cell_type": "code",
   "execution_count": 65,
   "source": [
    "y = full_pre['SalePrice'].iloc[0:1460]"
   ],
   "outputs": [],
   "metadata": {}
  },
  {
   "cell_type": "code",
   "execution_count": 66,
   "source": [
    "full_pre = full_pre.drop(['SalePrice'],axis = 1)\n",
    "\n",
    "train = full_pre.iloc[0:1460]\n",
    "test = full_pre.iloc[1460:]"
   ],
   "outputs": [],
   "metadata": {}
  },
  {
   "cell_type": "code",
   "execution_count": 67,
   "source": [
    "scoring='neg_mean_squared_error'\n",
    "x_train,x_test,y_train,y_test = train_test_split(train,y.to_numpy(),random_state= 42)"
   ],
   "outputs": [],
   "metadata": {}
  },
  {
   "cell_type": "code",
   "execution_count": 68,
   "source": [
    "lr = LinearRegression()\n",
    "lr.fit(x_train,y_train)\n",
    "\n",
    "train_pre = (lr.predict(x_train))\n",
    "test_pre = (lr.predict(x_test))\n",
    "\n",
    "print(\"train MSE:\", mean_squared_error(train_pre, y_train))\n",
    "print(\"test MSE:\", mean_squared_error(test_pre, y_test))"
   ],
   "outputs": [
    {
     "output_type": "stream",
     "name": "stdout",
     "text": [
      "train MSE: 0.013244249345024777\n",
      "test MSE: 0.016722986198198272\n"
     ]
    }
   ],
   "metadata": {}
  },
  {
   "cell_type": "code",
   "execution_count": 69,
   "source": [
    "rcv = RidgeCV()\n",
    "\n",
    "rcv.fit(x_train, y_train)\n",
    "\n",
    "train_pre = ((rcv.predict(x_train)))\n",
    "test_pre = ((rcv.predict(x_test)))\n",
    "\n",
    "print(\"train MSE:\", mean_squared_error(train_pre, y_train))\n",
    "print(\"test MSE:\", mean_squared_error(test_pre, y_test))"
   ],
   "outputs": [
    {
     "output_type": "stream",
     "name": "stdout",
     "text": [
      "train MSE: 0.01389257588689582\n",
      "test MSE: 0.015491697659511163\n"
     ]
    }
   ],
   "metadata": {}
  },
  {
   "cell_type": "code",
   "execution_count": 70,
   "source": [
    "gbr = GradientBoostingRegressor(max_depth=2, learning_rate = 0.1, n_estimators=200)\n",
    "gbr.fit(x_train, y_train)\n",
    "\n",
    "train_pre = gbr.predict(x_train)\n",
    "test_pre = gbr.predict(x_test)\n",
    "\n",
    "print(\"train MSE:\", mean_squared_error(train_pre, y_train))\n",
    "print(\"test MSE:\", mean_squared_error(test_pre, y_test))"
   ],
   "outputs": [
    {
     "output_type": "stream",
     "name": "stdout",
     "text": [
      "train MSE: 0.006759778347792392\n",
      "test MSE: 0.015619201304881997\n"
     ]
    }
   ],
   "metadata": {}
  },
  {
   "cell_type": "code",
   "execution_count": 71,
   "source": [
    "import catboost\n",
    "from catboost import CatBoostRegressor"
   ],
   "outputs": [],
   "metadata": {}
  },
  {
   "cell_type": "code",
   "execution_count": 72,
   "source": [
    "cat = CatBoostRegressor(depth=2, learning_rate = .1, iterations=200, silent = True)\n",
    "cat.fit(x_train, y_train)\n",
    "\n",
    "train_pre = cat.predict(x_train)\n",
    "test_pre = cat.predict(x_test)\n",
    "\n",
    "print(\"train MSE:\", mean_squared_error(train_pre, y_train))\n",
    "print(\"test MSE:\", mean_squared_error(test_pre, y_test))"
   ],
   "outputs": [
    {
     "output_type": "stream",
     "name": "stdout",
     "text": [
      "train MSE: 0.01014569735282376\n",
      "test MSE: 0.015723071566220357\n"
     ]
    }
   ],
   "metadata": {}
  },
  {
   "cell_type": "code",
   "execution_count": 73,
   "source": [
    "def blend(x):\n",
    "    return (0.3 * cat.predict(x)) + (0.3 * gbr.predict(x)) + (0.3 * rcv.predict(x)) + (0.1 * lr.predict(x))\n",
    "pred1 = blend(x_test)\n",
    "print(\"test MSE:\", mean_squared_error(pred1, y_test))"
   ],
   "outputs": [
    {
     "output_type": "stream",
     "name": "stdout",
     "text": [
      "test MSE: 0.014307555853502171\n"
     ]
    }
   ],
   "metadata": {}
  },
  {
   "cell_type": "code",
   "execution_count": 74,
   "source": [
    "final_test_pre = blend(test)\n",
    "\n",
    "normal_prices_arr = np.expm1(final_test_pre)\n",
    "n_prices_df = pd.DataFrame(normal_prices_arr.tolist(), columns=['SalePrice'], index=range(1461, 2920)).rename_axis('Id')"
   ],
   "outputs": [],
   "metadata": {}
  },
  {
   "cell_type": "code",
   "execution_count": 75,
   "source": [
    "n_prices_df.to_csv('submission8.csv')"
   ],
   "outputs": [],
   "metadata": {}
  },
  {
   "cell_type": "code",
   "execution_count": null,
   "source": [],
   "outputs": [],
   "metadata": {}
  },
  {
   "cell_type": "code",
   "execution_count": null,
   "source": [],
   "outputs": [],
   "metadata": {}
  }
 ],
 "metadata": {
  "orig_nbformat": 4,
  "language_info": {
   "name": "python",
   "version": "3.7.6",
   "mimetype": "text/x-python",
   "codemirror_mode": {
    "name": "ipython",
    "version": 3
   },
   "pygments_lexer": "ipython3",
   "nbconvert_exporter": "python",
   "file_extension": ".py"
  },
  "kernelspec": {
   "name": "python3",
   "display_name": "Python 3.7.6 64-bit ('base': conda)"
  },
  "interpreter": {
   "hash": "b1df064e37bd068d065481bf2909ed9d36efe05d70a4e7438b7ed54b00d0c629"
  }
 },
 "nbformat": 4,
 "nbformat_minor": 2
}